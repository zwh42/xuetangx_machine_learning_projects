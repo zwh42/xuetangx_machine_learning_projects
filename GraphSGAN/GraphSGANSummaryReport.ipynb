{
 "cells": [
  {
   "cell_type": "markdown",
   "metadata": {},
   "source": [
    "# GraphSGAN Summary Report"
   ]
  },
  {
   "cell_type": "markdown",
   "metadata": {},
   "source": [
    "复现 [GraphSGAN](https://arxiv.org/abs/1809.00130)"
   ]
  },
  {
   "cell_type": "markdown",
   "metadata": {},
   "source": [
    "code location: https://github.com/zwh42/xuetangx_machine_learning_projects/tree/master/GraphSGAN/code \n",
    "\n",
    "基于原始[code](https://github.com/THUDM/GraphSGAN) 简单修改。\n",
    "\n",
    "**enviroment** \n",
    "+ pytorch 1.5\n",
    "\n",
    "\n",
    "Usage:\n",
    "\n",
    "```unzip cora.dataset.zip```\n",
    "\n",
    "```python GraphSGAN.py --cuda```\n"
   ]
  },
  {
   "cell_type": "markdown",
   "metadata": {},
   "source": [
    "## baseline result\n",
    "### Eval: correct 831 / 1000, Acc: 83.10\n",
    "\n",
    "和 paper上的结果基本一致"
   ]
  },
  {
   "cell_type": "code",
   "execution_count": null,
   "metadata": {},
   "outputs": [],
   "source": []
  },
  {
   "cell_type": "code",
   "execution_count": null,
   "metadata": {},
   "outputs": [],
   "source": []
  }
 ],
 "metadata": {
  "kernelspec": {
   "display_name": "myconda",
   "language": "python",
   "name": "myconda"
  },
  "language_info": {
   "codemirror_mode": {
    "name": "ipython",
    "version": 3
   },
   "file_extension": ".py",
   "mimetype": "text/x-python",
   "name": "python",
   "nbconvert_exporter": "python",
   "pygments_lexer": "ipython3",
   "version": "3.8.2"
  }
 },
 "nbformat": 4,
 "nbformat_minor": 4
}
