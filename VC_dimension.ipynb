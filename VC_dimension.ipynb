{
 "cells": [
  {
   "cell_type": "markdown",
   "metadata": {},
   "source": [
    "# VC dimension"
   ]
  },
  {
   "cell_type": "markdown",
   "metadata": {},
   "source": [
    "***problem***\n",
    "\n",
    "![problem](./resource/vc_dimension.png)\n"
   ]
  },
  {
   "cell_type": "markdown",
   "metadata": {},
   "source": [
    "## problem 1. "
   ]
  },
  {
   "cell_type": "markdown",
   "metadata": {},
   "source": [
    "\n",
    "As $\\sigma$(x) = x, \n",
    "\n",
    "o = $w^T_{2}$$\\sigma$($W_{1}$v + $b_{1}$)+ $b_{2}$ \n",
    "= $w^T_{2}$($W_{1}$v + $b_{1}$) + $b_{2}$ = $w^T_{2}$$W_{1}$v + ($w^T_{2}$$b_{1}$ + $b_{2}$) \n",
    "\n",
    "it implies that the VC dimension should not exceed the VC dimension of a linear classifier, VC $\\leq$ d + 1.\n",
    "On the other side,  v is transformed to a n dimensional vector in layer1,so the VC dimension VC $\\leq$ n + 1.\n",
    "\n",
    "to shatter min(n + 1; d + 1) points, $W_{1}$ can be set to ($I$, 0) or $(I, 0)^T$, depends on whether n > d or n $\\leq$ d, and set $b_{1}$ to $0$.\n",
    "\n",
    "\n",
    "Based on the above discussion, VC < min(n+1, d+1)"
   ]
  },
  {
   "cell_type": "markdown",
   "metadata": {},
   "source": [
    "## problem 2. "
   ]
  },
  {
   "cell_type": "markdown",
   "metadata": {},
   "source": [
    "When d = 1, set n + 1 points to (1), (2), (3) .... (0) and $W_{1}$ to ((1, 1, 1, ..., 1)) and $b_{1}$ to = (-1, -2,..., n + 1, 0).   "
   ]
  }
 ],
 "metadata": {
  "kernelspec": {
   "display_name": "Python 3",
   "language": "python",
   "name": "python3"
  },
  "language_info": {
   "codemirror_mode": {
    "name": "ipython",
    "version": 3
   },
   "file_extension": ".py",
   "mimetype": "text/x-python",
   "name": "python",
   "nbconvert_exporter": "python",
   "pygments_lexer": "ipython3",
   "version": "3.7.4"
  }
 },
 "nbformat": 4,
 "nbformat_minor": 2
}
