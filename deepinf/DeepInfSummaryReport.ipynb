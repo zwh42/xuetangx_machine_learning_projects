{
 "cells": [
  {
   "cell_type": "markdown",
   "metadata": {},
   "source": [
    "# DeepInf Study Summary"
   ]
  },
  {
   "cell_type": "markdown",
   "metadata": {},
   "source": [
    "## source code location: https://github.com/zwh42/xuetangx_machine_learning_projects/tree/master/deepinf/source_code\n",
    "### ***this code is migrated from the original DeepInf implementation (https://github.com/xptree/DeepInf) with minor modification for newly pyTorch***"
   ]
  },
  {
   "cell_type": "code",
   "execution_count": 7,
   "metadata": {},
   "outputs": [
    {
     "name": "stdout",
     "output_type": "stream",
     "text": [
      "The tensorboard extension is already loaded. To reload it, use:\n",
      "  %reload_ext tensorboard\n"
     ]
    }
   ],
   "source": [
    "%load_ext tensorboard"
   ]
  },
  {
   "cell_type": "markdown",
   "metadata": {},
   "source": [
    "### GAT baseline setting\n",
    "\n",
    "+ hidden-units=16,16 \n",
    "+ heads=8,8,1 \n",
    "+ dim=64 \n",
    "+ epochs=100 \n",
    "+ lr=0.1 \n",
    "+ dropout=0.2 \n",
    "+ batch=1024 \n",
    "\n",
    "### performance\n",
    "+ AUC: 82.50%\n",
    "+ Prec.: 47.02%\n",
    "+ Rec.: 78.92%\n",
    "+ F1: 58.67%"
   ]
  },
  {
   "cell_type": "code",
   "execution_count": 10,
   "metadata": {},
   "outputs": [],
   "source": [
    "# %tensorboard --logdir ./source_code/tensorboard/gat_exp_1/"
   ]
  },
  {
   "cell_type": "markdown",
   "metadata": {},
   "source": [
    "### GCN baseline setting\n",
    "\n",
    "+ hidden-units=128,128\n",
    "+ dim=64 \n",
    "+ epochs=100 \n",
    "+ lr=0.1 \n",
    "+ dropout=0.2 \n",
    "+ batch=1024\n",
    "\n",
    "### performance\n",
    "+ AUC: 76.93%\n",
    "+ Prec.: 42.77%\n",
    "+ Rec.: 65.72%\n",
    "+ F1: 53.14%"
   ]
  },
  {
   "cell_type": "code",
   "execution_count": 9,
   "metadata": {},
   "outputs": [],
   "source": [
    "# %tensorboard --logdir ./source_code/tensorboard/gcn_exp_1/"
   ]
  }
 ],
 "metadata": {
  "kernelspec": {
   "display_name": "Python 3",
   "language": "python",
   "name": "python3"
  },
  "language_info": {
   "codemirror_mode": {
    "name": "ipython",
    "version": 3
   },
   "file_extension": ".py",
   "mimetype": "text/x-python",
   "name": "python",
   "nbconvert_exporter": "python",
   "pygments_lexer": "ipython3",
   "version": "3.7.4"
  }
 },
 "nbformat": 4,
 "nbformat_minor": 4
}
