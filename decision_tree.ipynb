{
 "cells": [
  {
   "cell_type": "markdown",
   "metadata": {},
   "source": [
    "# Decision Tree Implementation"
   ]
  },
  {
   "cell_type": "code",
   "execution_count": 1,
   "metadata": {},
   "outputs": [
    {
     "name": "stdout",
     "output_type": "stream",
     "text": [
      "dict_keys(['data', 'target', 'target_names', 'DESCR', 'feature_names', 'filename'])\n",
      "(398, 30) (171, 30) (398,) (171,)\n"
     ]
    }
   ],
   "source": [
    "from sklearn.datasets import load_breast_cancer\n",
    "from sklearn.model_selection import train_test_split \n",
    "\n",
    "data = load_breast_cancer()\n",
    "\n",
    "print(data.keys())\n",
    "X = data[\"data\"]\n",
    "y = data[\"target\"]\n",
    "\n",
    "assert len(X) == len(y), \"target label size does not match\"\n",
    "\n",
    "X_train, X_test, y_train, y_test = train_test_split(X, y, test_size = 0.3, random_state = 42)\n",
    "print(X_train.shape, X_test.shape, y_train.shape, y_test.shape)\n",
    "\n",
    "\n",
    "MAX_DEPTH = 3"
   ]
  },
  {
   "cell_type": "markdown",
   "metadata": {},
   "source": [
    "## reference baseline"
   ]
  },
  {
   "cell_type": "code",
   "execution_count": 2,
   "metadata": {},
   "outputs": [
    {
     "name": "stdout",
     "output_type": "stream",
     "text": [
      "[1 0 0 1 1 0 0 0 1 1 1 0 1 0 1 0 1 1 1 0 1 1 0 1 1 1 1 1 1 0 1 1 0 1 1 1 0\n",
      " 1 0 1 1 0 1 1 1 1 1 1 1 1 0 0 1 1 1 1 1 0 0 1 1 0 0 1 1 1 0 0 1 1 0 0 1 0\n",
      " 1 1 1 0 1 1 0 1 1 0 0 0 1 0 1 1 1 1 0 1 1 1 0 0 1 0 0 1 0 0 1 1 1 0 1 1 0\n",
      " 1 1 0 1 0 1 1 1 0 0 1 1 0 1 0 0 1 1 0 0 0 1 1 1 0 1 1 1 0 1 0 1 1 0 1 0 0\n",
      " 0 1 0 1 1 1 1 0 0 1 1 1 1 1 1 1 0 1 1 1 1 0 1]\n"
     ]
    }
   ],
   "source": [
    "\n",
    "from sklearn.tree import DecisionTreeClassifier\n",
    "from sklearn import tree\n",
    "\n",
    "\n",
    "clf = DecisionTreeClassifier(max_depth = MAX_DEPTH, random_state = 23)\n",
    "\n",
    "tree.plot_tree(clf.fit(X_train, y_train))\n",
    "\n",
    "\n",
    "baseline = clf.predict(X_test)\n",
    "\n",
    "print(baseline)\n"
   ]
  },
  {
   "cell_type": "markdown",
   "metadata": {},
   "source": [
    "## Implementation"
   ]
  },
  {
   "cell_type": "code",
   "execution_count": 3,
   "metadata": {},
   "outputs": [
    {
     "name": "stdout",
     "output_type": "stream",
     "text": [
      "baseline\n",
      " [1, 0, 0, 1, 1, 0, 0, 0, 1, 1, 1, 0, 1, 0, 1, 0, 1, 1, 1, 0, 1, 1, 0, 1, 1, 1, 1, 1, 1, 0, 1, 1, 0, 1, 1, 1, 0, 1, 0, 1, 1, 0, 1, 1, 1, 1, 1, 1, 1, 1, 0, 0, 1, 1, 1, 1, 1, 0, 0, 1, 1, 0, 0, 1, 1, 1, 0, 0, 1, 1, 0, 0, 1, 0, 1, 1, 1, 0, 1, 1, 0, 1, 1, 0, 0, 0, 1, 0, 1, 1, 1, 1, 0, 1, 1, 1, 0, 0, 1, 0, 0, 1, 0, 0, 1, 1, 1, 0, 1, 1, 0, 1, 1, 0, 1, 0, 1, 1, 1, 0, 0, 1, 1, 0, 1, 0, 0, 1, 1, 0, 0, 0, 1, 1, 1, 0, 1, 1, 1, 0, 1, 0, 1, 1, 0, 1, 0, 0, 0, 1, 0, 1, 1, 1, 1, 0, 0, 1, 1, 1, 1, 1, 1, 1, 0, 1, 1, 1, 1, 0, 1]\n",
      "test result\n",
      " [1, 0, 0, 1, 1, 0, 0, 1, 1, 1, 1, 0, 1, 0, 1, 0, 1, 1, 1, 0, 1, 1, 0, 1, 1, 1, 1, 1, 1, 0, 1, 1, 0, 1, 1, 1, 0, 1, 0, 1, 1, 0, 1, 1, 1, 1, 1, 1, 1, 1, 0, 0, 1, 1, 1, 1, 1, 0, 0, 1, 1, 0, 0, 1, 1, 1, 0, 0, 1, 1, 0, 0, 1, 0, 1, 1, 1, 0, 1, 1, 0, 1, 1, 0, 0, 0, 1, 0, 1, 1, 1, 1, 0, 1, 1, 1, 0, 0, 1, 0, 0, 1, 0, 0, 1, 1, 1, 0, 1, 1, 0, 1, 1, 0, 1, 0, 1, 1, 1, 0, 0, 1, 1, 0, 1, 0, 0, 1, 1, 0, 0, 0, 1, 1, 1, 0, 1, 1, 1, 0, 1, 0, 1, 1, 0, 1, 0, 0, 0, 1, 0, 1, 1, 1, 1, 0, 0, 1, 1, 1, 1, 1, 1, 1, 0, 1, 1, 1, 1, 0, 1]\n",
      "the 7 element is different: 1, 0\n"
     ]
    }
   ],
   "source": [
    "import numpy as np\n",
    "\n",
    "\n",
    "class Node:\n",
    "    def __init__(self, gini, num_samples, num_samples_per_class, predicted_class):\n",
    "        self.gini = gini\n",
    "        self.num_samples = num_samples\n",
    "        self.num_samples_per_class = num_samples_per_class\n",
    "        self.predicted_class = predicted_class\n",
    "        \n",
    "        self.feature_index = 0\n",
    "        self.threshold = 0\n",
    "        self.left = None\n",
    "        self.right = None\n",
    "        \n",
    "        \n",
    "class DecisionTree:\n",
    "    def __init__(self, max_depth = None):\n",
    "        self._max_depth = max_depth\n",
    "    \n",
    "    def fit(self, X, y):\n",
    "        self.num_classes = len(set(y))\n",
    "        self.num_features = X.shape[1]\n",
    "        self.tree = self._grow_tree(X, y)\n",
    "    \n",
    "    def _calculate_gini(self, y):\n",
    "  \n",
    "        m = len(y)\n",
    "        return 1.0 - sum((np.sum(y == c) / m) ** 2 for c in range(self.num_classes))\n",
    "    \n",
    "    \n",
    "    def _calculate_split(self, X, y):\n",
    "        m = len(y)\n",
    "        if m <= 1:\n",
    "            return None, None\n",
    "        \n",
    "        num_parent = [np.sum(y == c) for c in range(self.num_classes)]\n",
    "        best_gini = 1.0 - sum((n / m) ** 2 for n in num_parent)\n",
    "        best_idx, best_thr = None, None\n",
    "        \n",
    "        for idx in range(self.num_features):\n",
    "            thresholds, classes = zip(*sorted(zip(X[:, idx], y)))\n",
    "            \n",
    "            num_left = [0] * self.num_classes\n",
    "            num_right = num_parent.copy()\n",
    "            \n",
    "            for i in range(1, m):\n",
    "                c = classes[i - 1]\n",
    "                num_left[c] += 1\n",
    "                num_right[c] -= 1\n",
    "                \n",
    "                gini_left = 1.0 - sum(\n",
    "                    (num_left[x] / i) ** 2 for x in range(self.num_classes))\n",
    "                \n",
    "                gini_right = 1.0 - sum(\n",
    "                    (num_right[x] / (m - i)) ** 2 for x in range(self.num_classes))\n",
    "        \n",
    "                gini = (i * gini_left + (m - i) * gini_right) / m\n",
    "                \n",
    "                if thresholds[i] == thresholds[i - 1]:\n",
    "                    continue\n",
    "\n",
    "                if gini < best_gini:\n",
    "                    best_gini = gini\n",
    "                    best_idx = idx\n",
    "                    best_thr = (thresholds[i] + thresholds[i - 1]) / 2 \n",
    "        \n",
    "        return best_idx, best_thr\n",
    "    \n",
    "    \n",
    "    def _grow_tree(self, X, y, depth = 0):\n",
    "        num_samples_per_class = [np.sum(y == i) for i in range(self.num_classes)]\n",
    "        predicted_class = np.argmax(num_samples_per_class)\n",
    "        \n",
    "        node = Node(\n",
    "            gini=self._calculate_gini(y),\n",
    "            num_samples=len(y),\n",
    "            num_samples_per_class=num_samples_per_class,\n",
    "            predicted_class=predicted_class,\n",
    "        )\n",
    "        \n",
    "        if depth < self._max_depth:\n",
    "            idx, thr = self._calculate_split(X, y)\n",
    "            if idx is not None:\n",
    "                indices_left = X[:, idx] < thr\n",
    "                X_left, y_left = X[indices_left], y[indices_left]\n",
    "                X_right, y_right = X[~indices_left], y[~indices_left]\n",
    "                node.feature_index = idx\n",
    "                node.threshold = thr\n",
    "                node.left = self._grow_tree(X_left, y_left, depth = depth + 1)\n",
    "                node.right = self._grow_tree(X_right, y_right, depth = depth + 1)\n",
    "                \n",
    "        return node\n",
    "    \n",
    "\n",
    "    def predict(self, X):\n",
    "        return [self._predict(inputs) for inputs in X]\n",
    "\n",
    "    def _predict(self, inputs):\n",
    "        \"\"\"Predict class for a single sample.\"\"\"\n",
    "        node = self.tree\n",
    "        while node.left:\n",
    "            if inputs[node.feature_index] < node.threshold:\n",
    "                node = node.left\n",
    "            else:\n",
    "                node = node.right\n",
    "        return node.predicted_class\n",
    "        \n",
    "                \n",
    "                \n",
    "    \n",
    "        \n",
    "        \n",
    "    \n",
    "decision_tree = DecisionTree(max_depth = MAX_DEPTH)    \n",
    "decision_tree.fit(X_train, y_train)\n",
    "test_result = decision_tree.predict(X_test)\n",
    "\n",
    "\n",
    "print(\"baseline\\n\", list(baseline))\n",
    "print(\"test result\\n\", list(test_result))\n",
    "#assert list(baseline) == list(result), \"the result is different from the baseline\"\n",
    "\n",
    "for i, v in enumerate(zip(list(test_result), list(baseline))):\n",
    "    if v[0] != v[1]:\n",
    "        print(f\"the {i} element is different: {v[0]}, {v[1]}\")\n",
    "    \n",
    "  "
   ]
  },
  {
   "cell_type": "markdown",
   "metadata": {},
   "source": [
    "## K-fold cross validation"
   ]
  },
  {
   "cell_type": "code",
   "execution_count": 4,
   "metadata": {},
   "outputs": [
    {
     "name": "stdout",
     "output_type": "stream",
     "text": [
      "5-fold\n",
      "round 1 test: \n",
      "\tbaseline accuracy: 0.8596491228070176\n",
      "\ttest accuracy: 0.8596491228070176\n",
      "round 2 test: \n",
      "\tbaseline accuracy: 0.9385964912280702\n",
      "\ttest accuracy: 0.9210526315789473\n",
      "round 3 test: \n",
      "\tbaseline accuracy: 0.9473684210526315\n",
      "\ttest accuracy: 0.956140350877193\n",
      "round 4 test: \n",
      "\tbaseline accuracy: 0.9298245614035088\n",
      "\ttest accuracy: 0.9210526315789473\n",
      "round 5 test: \n",
      "\tbaseline accuracy: 0.8849557522123894\n",
      "\ttest accuracy: 0.8849557522123894\n"
     ]
    }
   ],
   "source": [
    "from sklearn.model_selection import KFold\n",
    "from sklearn.metrics import accuracy_score\n",
    "\n",
    "K = 5\n",
    "\n",
    "kfold = KFold(n_splits=K, random_state = 42)\n",
    "k = kfold.get_n_splits(X)\n",
    "print(f\"{k}-fold\")\n",
    "\n",
    "i = 0\n",
    "for train_index, test_index in kfold.split(X):\n",
    "    #print(len(train_index), len(test_index))\n",
    "    i += 1\n",
    "    X_train, X_test = X[train_index], X[test_index]\n",
    "    y_train, y_test = y[train_index], y[test_index]\n",
    "    \n",
    "    baseline_clf = DecisionTreeClassifier(max_depth = MAX_DEPTH, random_state = 42)\n",
    "    test_clf = DecisionTree(max_depth = MAX_DEPTH)\n",
    "    \n",
    "    baseline_clf.fit(X_train, y_train)\n",
    "    test_clf.fit(X_train, y_train)\n",
    "    \n",
    "    baseline_prediction = baseline_clf.predict(X_test)\n",
    "    test_prediction = test_clf.predict(X_test)\n",
    "    \n",
    "    baseline_accuracy = accuracy_score(y_test, baseline_prediction)\n",
    "    test_accuracy = accuracy_score(y_test, test_prediction)\n",
    "    \n",
    "    print(f\"round {i} test: \\n\\tbaseline accuracy: {baseline_accuracy}\\n\\ttest accuracy: {test_accuracy}\")\n",
    "    \n",
    "\n",
    "    \n"
   ]
  }
 ],
 "metadata": {
  "kernelspec": {
   "display_name": "Python 3",
   "language": "python",
   "name": "python3"
  },
  "language_info": {
   "codemirror_mode": {
    "name": "ipython",
    "version": 3
   },
   "file_extension": ".py",
   "mimetype": "text/x-python",
   "name": "python",
   "nbconvert_exporter": "python",
   "pygments_lexer": "ipython3",
   "version": "3.7.4"
  }
 },
 "nbformat": 4,
 "nbformat_minor": 2
}
